{
 "cells": [
  {
   "cell_type": "markdown",
   "id": "bdac80b6-690a-4c0a-af0e-b5bd29a88376",
   "metadata": {},
   "source": [
    "## 1.4 Accessing web data without API"
   ]
  },
  {
   "cell_type": "markdown",
   "id": "e3063b44-48d8-46d5-8a44-1dad93bff3bd",
   "metadata": {},
   "source": [
    "### Importing Libraries"
   ]
  },
  {
   "cell_type": "code",
   "execution_count": 8,
   "id": "a90ad465-fda0-48e7-a1e7-a01a0358c32a",
   "metadata": {},
   "outputs": [],
   "source": [
    "# Import libraries\n",
    "\n",
    "import pandas as pd\n",
    "import time\n",
    "from selenium import webdriver\n",
    "from webdriver_manager.chrome import ChromeDriverManager\n",
    "from selenium.webdriver.common.by import By\n",
    "from selenium.webdriver.chrome.service import Service\n",
    "from selenium.webdriver.chrome.options import Options\n",
    "import matplotlib.pyplot as plt\n",
    "import os\n",
    "import logging\n",
    "import requests\n",
    "import bs4"
   ]
  },
  {
   "cell_type": "code",
   "execution_count": 9,
   "id": "3f890a00-bcc1-459f-8e29-bba7d657e208",
   "metadata": {},
   "outputs": [],
   "source": [
    "driver_path = \"/Users/vickyczada/Downloads/chromedriver-mac-arm64 4/chromedriver\"\n",
    "\n",
    "service = Service(executable_path=driver_path)\n",
    "driver = webdriver.Chrome(service=service)"
   ]
  },
  {
   "cell_type": "code",
   "execution_count": 10,
   "id": "debcb5a3-459d-4099-84fd-ef3f48abdb0d",
   "metadata": {},
   "outputs": [],
   "source": [
    "# Get the page’s contents\n",
    "\n",
    "page_url = \"https://en.wikipedia.org/wiki/Key_events_of_the_20th_century\"\n",
    "driver.get(page_url)"
   ]
  },
  {
   "cell_type": "markdown",
   "id": "e8dd3a87-1b7f-41ca-982f-3ebe72fa3914",
   "metadata": {},
   "source": [
    "### Requests and BeautifulSoup"
   ]
  },
  {
   "cell_type": "code",
   "execution_count": 11,
   "id": "49d9e6f4-0349-4f2c-b470-83218d23baa9",
   "metadata": {},
   "outputs": [],
   "source": [
    "from bs4 import BeautifulSoup\n",
    "import requests "
   ]
  },
  {
   "cell_type": "code",
   "execution_count": 12,
   "id": "8e216ad0-fa2d-4a82-ba10-011f8bc24342",
   "metadata": {},
   "outputs": [],
   "source": [
    "# Get URL\n",
    "\n",
    "page_url =  requests.get(\"https://en.wikipedia.org/wiki/Key_events_of_the_20th_century\")"
   ]
  },
  {
   "cell_type": "code",
   "execution_count": 14,
   "id": "c0d0ab0a-855b-4e31-bbea-9b6dd9f18b44",
   "metadata": {},
   "outputs": [
    {
     "name": "stdout",
     "output_type": "stream",
     "text": [
      "None\n"
     ]
    }
   ],
   "source": [
    "# Create soup and get title\n",
    "\n",
    "soup = BeautifulSoup(page_url.text, 'html.parser')\n",
    "print(soup.title)  "
   ]
  },
  {
   "cell_type": "code",
   "execution_count": 15,
   "id": "e95d2350-bcd0-4015-b529-8a315f8ce226",
   "metadata": {},
   "outputs": [],
   "source": [
    "text = soup.get_text()\n",
    "\n",
    "text = text.encode ('utf-8')\n",
    "\n",
    "with open('20th_Century_Wiki.txt', 'wb') as f:\n",
    "       f.write(text)"
   ]
  },
  {
   "cell_type": "code",
   "execution_count": null,
   "id": "8d031771-f645-48d4-beb4-161d41f0c748",
   "metadata": {},
   "outputs": [],
   "source": []
  }
 ],
 "metadata": {
  "kernelspec": {
   "display_name": "Python [conda env:venv_20th_century]",
   "language": "python",
   "name": "conda-env-venv_20th_century-py"
  },
  "language_info": {
   "codemirror_mode": {
    "name": "ipython",
    "version": 3
   },
   "file_extension": ".py",
   "mimetype": "text/x-python",
   "name": "python",
   "nbconvert_exporter": "python",
   "pygments_lexer": "ipython3",
   "version": "3.13.5"
  }
 },
 "nbformat": 4,
 "nbformat_minor": 5
}
