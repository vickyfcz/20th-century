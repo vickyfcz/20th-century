{
 "cells": [
  {
   "cell_type": "markdown",
   "id": "13d8dc65-4abf-423d-a55c-6a2d340a06a9",
   "metadata": {},
   "source": [
    "### 1.3 Task"
   ]
  },
  {
   "cell_type": "markdown",
   "id": "88ea10b3-91c3-475d-ab47-c267b393649c",
   "metadata": {},
   "source": [
    "Import library"
   ]
  },
  {
   "cell_type": "code",
   "execution_count": 2,
   "id": "236ec747-77aa-4a89-adf0-ba08bd719a8c",
   "metadata": {},
   "outputs": [],
   "source": [
    "import pandas as pd"
   ]
  },
  {
   "cell_type": "markdown",
   "id": "84afbcc8-9aae-44e2-92e0-d2a059bdf966",
   "metadata": {},
   "source": [
    "Create a dataframe"
   ]
  },
  {
   "cell_type": "code",
   "execution_count": 3,
   "id": "be550823-c73a-41a9-af25-3328831bf930",
   "metadata": {},
   "outputs": [],
   "source": [
    "data = pd.DataFrame({\n",
    "    \"Name\": ['Jane Austen', 'George Orwell', 'William Shakespeare', 'Mark Twain'],\n",
    "    \"Nationality\": ['British', 'British', 'British', 'American'],\n",
    "    \"Books_Written\": [6, 9, 37, 25]})"
   ]
  },
  {
   "cell_type": "code",
   "execution_count": 4,
   "id": "c9994bb7-cccf-4bbb-ad42-55a8ba1a13b2",
   "metadata": {},
   "outputs": [
    {
     "data": {
      "text/html": [
       "<div>\n",
       "<style scoped>\n",
       "    .dataframe tbody tr th:only-of-type {\n",
       "        vertical-align: middle;\n",
       "    }\n",
       "\n",
       "    .dataframe tbody tr th {\n",
       "        vertical-align: top;\n",
       "    }\n",
       "\n",
       "    .dataframe thead th {\n",
       "        text-align: right;\n",
       "    }\n",
       "</style>\n",
       "<table border=\"1\" class=\"dataframe\">\n",
       "  <thead>\n",
       "    <tr style=\"text-align: right;\">\n",
       "      <th></th>\n",
       "      <th>Name</th>\n",
       "      <th>Nationality</th>\n",
       "      <th>Books_Written</th>\n",
       "    </tr>\n",
       "  </thead>\n",
       "  <tbody>\n",
       "    <tr>\n",
       "      <th>0</th>\n",
       "      <td>Jane Austen</td>\n",
       "      <td>British</td>\n",
       "      <td>6</td>\n",
       "    </tr>\n",
       "    <tr>\n",
       "      <th>1</th>\n",
       "      <td>George Orwell</td>\n",
       "      <td>British</td>\n",
       "      <td>9</td>\n",
       "    </tr>\n",
       "    <tr>\n",
       "      <th>2</th>\n",
       "      <td>William Shakespeare</td>\n",
       "      <td>British</td>\n",
       "      <td>37</td>\n",
       "    </tr>\n",
       "    <tr>\n",
       "      <th>3</th>\n",
       "      <td>Mark Twain</td>\n",
       "      <td>American</td>\n",
       "      <td>25</td>\n",
       "    </tr>\n",
       "  </tbody>\n",
       "</table>\n",
       "</div>"
      ],
      "text/plain": [
       "                  Name Nationality  Books_Written\n",
       "0          Jane Austen     British              6\n",
       "1        George Orwell     British              9\n",
       "2  William Shakespeare     British             37\n",
       "3           Mark Twain    American             25"
      ]
     },
     "execution_count": 4,
     "metadata": {},
     "output_type": "execute_result"
    }
   ],
   "source": [
    "data.head()"
   ]
  },
  {
   "cell_type": "markdown",
   "id": "3f0fe690-12bb-4cfc-9712-5a7f54ab2199",
   "metadata": {},
   "source": [
    "Create a new column"
   ]
  },
  {
   "cell_type": "code",
   "execution_count": 6,
   "id": "d938cb5b-f69b-4b52-ab93-4539ac574e96",
   "metadata": {},
   "outputs": [
    {
     "data": {
      "text/html": [
       "<div>\n",
       "<style scoped>\n",
       "    .dataframe tbody tr th:only-of-type {\n",
       "        vertical-align: middle;\n",
       "    }\n",
       "\n",
       "    .dataframe tbody tr th {\n",
       "        vertical-align: top;\n",
       "    }\n",
       "\n",
       "    .dataframe thead th {\n",
       "        text-align: right;\n",
       "    }\n",
       "</style>\n",
       "<table border=\"1\" class=\"dataframe\">\n",
       "  <thead>\n",
       "    <tr style=\"text-align: right;\">\n",
       "      <th></th>\n",
       "      <th>Name</th>\n",
       "      <th>Nationality</th>\n",
       "      <th>Books_Written</th>\n",
       "      <th>Books_per_Year</th>\n",
       "    </tr>\n",
       "  </thead>\n",
       "  <tbody>\n",
       "    <tr>\n",
       "      <th>0</th>\n",
       "      <td>Jane Austen</td>\n",
       "      <td>British</td>\n",
       "      <td>6</td>\n",
       "      <td>0.6</td>\n",
       "    </tr>\n",
       "    <tr>\n",
       "      <th>1</th>\n",
       "      <td>George Orwell</td>\n",
       "      <td>British</td>\n",
       "      <td>9</td>\n",
       "      <td>0.9</td>\n",
       "    </tr>\n",
       "    <tr>\n",
       "      <th>2</th>\n",
       "      <td>William Shakespeare</td>\n",
       "      <td>British</td>\n",
       "      <td>37</td>\n",
       "      <td>3.7</td>\n",
       "    </tr>\n",
       "    <tr>\n",
       "      <th>3</th>\n",
       "      <td>Mark Twain</td>\n",
       "      <td>American</td>\n",
       "      <td>25</td>\n",
       "      <td>2.5</td>\n",
       "    </tr>\n",
       "  </tbody>\n",
       "</table>\n",
       "</div>"
      ],
      "text/plain": [
       "                  Name Nationality  Books_Written  Books_per_Year\n",
       "0          Jane Austen     British              6             0.6\n",
       "1        George Orwell     British              9             0.9\n",
       "2  William Shakespeare     British             37             3.7\n",
       "3           Mark Twain    American             25             2.5"
      ]
     },
     "execution_count": 6,
     "metadata": {},
     "output_type": "execute_result"
    }
   ],
   "source": [
    "data['Books_per_Year'] = data['Books_Written'].apply(lambda x: x / 10)\n",
    "\n",
    "data.head()"
   ]
  },
  {
   "cell_type": "markdown",
   "id": "49f0fffb-b2fb-465b-b70c-192dd6eb24ed",
   "metadata": {},
   "source": [
    "Create a flag column"
   ]
  },
  {
   "cell_type": "code",
   "execution_count": 7,
   "id": "4a7cc5ea-3578-403e-8eb1-3d70f412b044",
   "metadata": {},
   "outputs": [],
   "source": [
    "data['Prolific_Author'] = data['Books_Written'].apply(lambda x: True if x > 10 else False)"
   ]
  },
  {
   "cell_type": "code",
   "execution_count": 8,
   "id": "79ebeb23-0f40-46fb-bdd3-4f880a6d814f",
   "metadata": {},
   "outputs": [
    {
     "data": {
      "text/html": [
       "<div>\n",
       "<style scoped>\n",
       "    .dataframe tbody tr th:only-of-type {\n",
       "        vertical-align: middle;\n",
       "    }\n",
       "\n",
       "    .dataframe tbody tr th {\n",
       "        vertical-align: top;\n",
       "    }\n",
       "\n",
       "    .dataframe thead th {\n",
       "        text-align: right;\n",
       "    }\n",
       "</style>\n",
       "<table border=\"1\" class=\"dataframe\">\n",
       "  <thead>\n",
       "    <tr style=\"text-align: right;\">\n",
       "      <th></th>\n",
       "      <th>Name</th>\n",
       "      <th>Nationality</th>\n",
       "      <th>Books_Written</th>\n",
       "      <th>Books_per_Year</th>\n",
       "      <th>Prolific_Author</th>\n",
       "    </tr>\n",
       "  </thead>\n",
       "  <tbody>\n",
       "    <tr>\n",
       "      <th>0</th>\n",
       "      <td>Jane Austen</td>\n",
       "      <td>British</td>\n",
       "      <td>6</td>\n",
       "      <td>0.6</td>\n",
       "      <td>False</td>\n",
       "    </tr>\n",
       "    <tr>\n",
       "      <th>1</th>\n",
       "      <td>George Orwell</td>\n",
       "      <td>British</td>\n",
       "      <td>9</td>\n",
       "      <td>0.9</td>\n",
       "      <td>False</td>\n",
       "    </tr>\n",
       "    <tr>\n",
       "      <th>2</th>\n",
       "      <td>William Shakespeare</td>\n",
       "      <td>British</td>\n",
       "      <td>37</td>\n",
       "      <td>3.7</td>\n",
       "      <td>True</td>\n",
       "    </tr>\n",
       "    <tr>\n",
       "      <th>3</th>\n",
       "      <td>Mark Twain</td>\n",
       "      <td>American</td>\n",
       "      <td>25</td>\n",
       "      <td>2.5</td>\n",
       "      <td>True</td>\n",
       "    </tr>\n",
       "  </tbody>\n",
       "</table>\n",
       "</div>"
      ],
      "text/plain": [
       "                  Name Nationality  Books_Written  Books_per_Year  \\\n",
       "0          Jane Austen     British              6             0.6   \n",
       "1        George Orwell     British              9             0.9   \n",
       "2  William Shakespeare     British             37             3.7   \n",
       "3           Mark Twain    American             25             2.5   \n",
       "\n",
       "   Prolific_Author  \n",
       "0            False  \n",
       "1            False  \n",
       "2             True  \n",
       "3             True  "
      ]
     },
     "execution_count": 8,
     "metadata": {},
     "output_type": "execute_result"
    }
   ],
   "source": [
    "data.head()"
   ]
  },
  {
   "cell_type": "code",
   "execution_count": null,
   "id": "ea5b49cd-fb6a-4a36-a8ee-cd7b2914bd1f",
   "metadata": {},
   "outputs": [],
   "source": []
  }
 ],
 "metadata": {
  "kernelspec": {
   "display_name": "Python [conda env:venv_20th_century]",
   "language": "python",
   "name": "conda-env-venv_20th_century-py"
  },
  "language_info": {
   "codemirror_mode": {
    "name": "ipython",
    "version": 3
   },
   "file_extension": ".py",
   "mimetype": "text/x-python",
   "name": "python",
   "nbconvert_exporter": "python",
   "pygments_lexer": "ipython3",
   "version": "3.13.5"
  }
 },
 "nbformat": 4,
 "nbformat_minor": 5
}
