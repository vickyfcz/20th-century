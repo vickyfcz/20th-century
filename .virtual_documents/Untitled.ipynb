





# Import libraries

import pandas as pd
import time
from selenium import webdriver
from webdriver_manager.chrome import ChromeDriverManager
from selenium.webdriver.common.by import By
from selenium.webdriver.chrome.service import Service
from selenium.webdriver.chrome.options import Options
import matplotlib.pyplot as plt
import os
import logging
import requests
import bs4


driver_path = "/Users/vickyczada/Downloads/chromedriver-mac-arm64 4/chromedriver"

service = Service(executable_path=driver_path)
driver = webdriver.Chrome(service=service)


# Get the page’s contents

page_url = "https://en.wikipedia.org/wiki/Key_events_of_the_20th_century"
driver.get(page_url)





from bs4 import BeautifulSoup
import requests 


# Get URL

page_url =  requests.get("https://en.wikipedia.org/wiki/Key_events_of_the_20th_century")


# Create soup and get title

soup = BeautifulSoup(page_url.text, 'html.parser')
print(soup.title)  


text = soup.get_text()

text = text.encode ('utf-8')

with open('20th_Century_Wiki.txt', 'wb') as f:
       f.write(text)



